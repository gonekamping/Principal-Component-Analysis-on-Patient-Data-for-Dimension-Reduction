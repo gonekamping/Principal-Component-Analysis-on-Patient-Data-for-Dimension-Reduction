{
 "cells": [
  {
   "cell_type": "markdown",
   "id": "d20fa450",
   "metadata": {},
   "source": [
    "# Principal Component Analysis on Patient Data for Dimension Reduction Code"
   ]
  },
  {
   "cell_type": "markdown",
   "id": "dc20009f",
   "metadata": {},
   "source": [
    "# Research Question"
   ]
  },
  {
   "cell_type": "markdown",
   "id": "fadcbb93",
   "metadata": {},
   "source": [
    "Can the medical data set be simplified to improve the efficiency of models without losing large amounts of variance?"
   ]
  },
  {
   "cell_type": "markdown",
   "id": "33c87753",
   "metadata": {},
   "source": [
    "# Install Necessary Libraries"
   ]
  },
  {
   "cell_type": "code",
   "execution_count": 1,
   "id": "00911016",
   "metadata": {},
   "outputs": [
    {
     "name": "stdout",
     "output_type": "stream",
     "text": [
      "Requirement already satisfied: pandas in c:\\users\\chris\\anaconda3\\lib\\site-packages (1.4.4)\n",
      "Requirement already satisfied: python-dateutil>=2.8.1 in c:\\users\\chris\\anaconda3\\lib\\site-packages (from pandas) (2.8.2)\n",
      "Requirement already satisfied: numpy>=1.18.5 in c:\\users\\chris\\anaconda3\\lib\\site-packages (from pandas) (1.21.5)\n",
      "Requirement already satisfied: pytz>=2020.1 in c:\\users\\chris\\anaconda3\\lib\\site-packages (from pandas) (2022.1)\n",
      "Requirement already satisfied: six>=1.5 in c:\\users\\chris\\anaconda3\\lib\\site-packages (from python-dateutil>=2.8.1->pandas) (1.16.0)\n",
      "Requirement already satisfied: numpy in c:\\users\\chris\\anaconda3\\lib\\site-packages (1.21.5)\n"
     ]
    }
   ],
   "source": [
    "!pip install pandas\n",
    "!pip install numpy"
   ]
  },
  {
   "cell_type": "markdown",
   "id": "c07b3116",
   "metadata": {},
   "source": [
    "# Import Necessary Packages"
   ]
  },
  {
   "cell_type": "code",
   "execution_count": 2,
   "id": "2f3a5c94",
   "metadata": {},
   "outputs": [],
   "source": [
    "import pandas as pd\n",
    "import numpy as np\n",
    "import matplotlib.pyplot as plt\n",
    "from sklearn.decomposition import PCA\n",
    "from sklearn.preprocessing import StandardScaler"
   ]
  },
  {
   "cell_type": "markdown",
   "id": "16fbd2a3",
   "metadata": {},
   "source": [
    "# Load Data Set"
   ]
  },
  {
   "cell_type": "code",
   "execution_count": 3,
   "id": "8551fbda",
   "metadata": {
    "scrolled": false
   },
   "outputs": [
    {
     "name": "stdout",
     "output_type": "stream",
     "text": [
      "<class 'pandas.core.frame.DataFrame'>\n",
      "RangeIndex: 10000 entries, 0 to 9999\n",
      "Data columns (total 50 columns):\n",
      " #   Column              Non-Null Count  Dtype  \n",
      "---  ------              --------------  -----  \n",
      " 0   CaseOrder           10000 non-null  int64  \n",
      " 1   Customer_id         10000 non-null  object \n",
      " 2   Interaction         10000 non-null  object \n",
      " 3   UID                 10000 non-null  object \n",
      " 4   City                10000 non-null  object \n",
      " 5   State               10000 non-null  object \n",
      " 6   County              10000 non-null  object \n",
      " 7   Zip                 10000 non-null  int64  \n",
      " 8   Lat                 10000 non-null  float64\n",
      " 9   Lng                 10000 non-null  float64\n",
      " 10  Population          10000 non-null  int64  \n",
      " 11  Area                10000 non-null  object \n",
      " 12  TimeZone            10000 non-null  object \n",
      " 13  Job                 10000 non-null  object \n",
      " 14  Children            10000 non-null  int64  \n",
      " 15  Age                 10000 non-null  int64  \n",
      " 16  Income              10000 non-null  float64\n",
      " 17  Marital             10000 non-null  object \n",
      " 18  Gender              10000 non-null  object \n",
      " 19  ReAdmis             10000 non-null  object \n",
      " 20  VitD_levels         10000 non-null  float64\n",
      " 21  Doc_visits          10000 non-null  int64  \n",
      " 22  Full_meals_eaten    10000 non-null  int64  \n",
      " 23  vitD_supp           10000 non-null  int64  \n",
      " 24  Soft_drink          10000 non-null  object \n",
      " 25  Initial_admin       10000 non-null  object \n",
      " 26  HighBlood           10000 non-null  object \n",
      " 27  Stroke              10000 non-null  object \n",
      " 28  Complication_risk   10000 non-null  object \n",
      " 29  Overweight          10000 non-null  object \n",
      " 30  Arthritis           10000 non-null  object \n",
      " 31  Diabetes            10000 non-null  object \n",
      " 32  Hyperlipidemia      10000 non-null  object \n",
      " 33  BackPain            10000 non-null  object \n",
      " 34  Anxiety             10000 non-null  object \n",
      " 35  Allergic_rhinitis   10000 non-null  object \n",
      " 36  Reflux_esophagitis  10000 non-null  object \n",
      " 37  Asthma              10000 non-null  object \n",
      " 38  Services            10000 non-null  object \n",
      " 39  Initial_days        10000 non-null  float64\n",
      " 40  TotalCharge         10000 non-null  float64\n",
      " 41  Additional_charges  10000 non-null  float64\n",
      " 42  Item1               10000 non-null  int64  \n",
      " 43  Item2               10000 non-null  int64  \n",
      " 44  Item3               10000 non-null  int64  \n",
      " 45  Item4               10000 non-null  int64  \n",
      " 46  Item5               10000 non-null  int64  \n",
      " 47  Item6               10000 non-null  int64  \n",
      " 48  Item7               10000 non-null  int64  \n",
      " 49  Item8               10000 non-null  int64  \n",
      "dtypes: float64(7), int64(16), object(27)\n",
      "memory usage: 3.8+ MB\n",
      "      CaseOrder Customer_id                           Interaction  \\\n",
      "0             1     C412403  8cd49b13-f45a-4b47-a2bd-173ffa932c2f   \n",
      "1             2     Z919181  d2450b70-0337-4406-bdbb-bc1037f1734c   \n",
      "2             3     F995323  a2057123-abf5-4a2c-abad-8ffe33512562   \n",
      "3             4     A879973  1dec528d-eb34-4079-adce-0d7a40e82205   \n",
      "4             5     C544523  5885f56b-d6da-43a3-8760-83583af94266   \n",
      "...         ...         ...                                   ...   \n",
      "9995       9996     B863060  a25b594d-0328-486f-a9b9-0567eb0f9723   \n",
      "9996       9997     P712040  70711574-f7b1-4a17-b15f-48c54564b70f   \n",
      "9997       9998     R778890  1d79569d-8e0f-4180-a207-d67ee4527d26   \n",
      "9998       9999     E344109  f5a68e69-2a60-409b-a92f-ac0847b27db0   \n",
      "9999      10000     I569847  bc482c02-f8c9-4423-99de-3db5e62a18d5   \n",
      "\n",
      "                                   UID          City State        County  \\\n",
      "0     3a83ddb66e2ae73798bdf1d705dc0932           Eva    AL        Morgan   \n",
      "1     176354c5eef714957d486009feabf195      Marianna    FL       Jackson   \n",
      "2     e19a0fa00aeda885b8a436757e889bc9   Sioux Falls    SD     Minnehaha   \n",
      "3     cd17d7b6d152cb6f23957346d11c3f07  New Richland    MN        Waseca   \n",
      "4     d2f0425877b10ed6bb381f3e2579424a    West Point    VA  King William   \n",
      "...                                ...           ...   ...           ...   \n",
      "9995  39184dc28cc038871912ccc4500049e5       Norlina    NC        Warren   \n",
      "9996  3cd124ccd43147404292e883bf9ec55c        Milmay    NJ      Atlantic   \n",
      "9997  41b770aeee97a5b9e7f69c906a8119d7     Southside    TN    Montgomery   \n",
      "9998  2bb491ef5b1beb1fed758cc6885c167a         Quinn    SD    Pennington   \n",
      "9999  95663a202338000abdf7e09311c2a8a1    Coraopolis    PA     Allegheny   \n",
      "\n",
      "        Zip       Lat        Lng  ...  TotalCharge Additional_charges Item1  \\\n",
      "0     35621  34.34960  -86.72508  ...  3726.702860       17939.403420     3   \n",
      "1     32446  30.84513  -85.22907  ...  4193.190458       17612.998120     3   \n",
      "2     57110  43.54321  -96.63772  ...  2434.234222       17505.192460     2   \n",
      "3     56072  43.89744  -93.51479  ...  2127.830423       12993.437350     3   \n",
      "4     23181  37.59894  -76.88958  ...  2113.073274        3716.525786     2   \n",
      "...     ...       ...        ...  ...          ...                ...   ...   \n",
      "9995  27563  36.42886  -78.23716  ...  6850.942000        8927.642000     3   \n",
      "9996   8340  39.43609  -74.87302  ...  7741.690000       28507.150000     3   \n",
      "9997  37171  36.36655  -87.29988  ...  8276.481000       15281.210000     3   \n",
      "9998  57775  44.10354 -102.01590  ...  7644.483000        7781.678000     5   \n",
      "9999  15108  40.49998  -80.19959  ...  7887.553000       11643.190000     4   \n",
      "\n",
      "     Item2  Item3  Item4  Item5 Item6 Item7 Item8  \n",
      "0        3      2      2      4     3     3     4  \n",
      "1        4      3      4      4     4     3     3  \n",
      "2        4      4      4      3     4     3     3  \n",
      "3        5      5      3      4     5     5     5  \n",
      "4        1      3      3      5     3     4     3  \n",
      "...    ...    ...    ...    ...   ...   ...   ...  \n",
      "9995     2      2      3      4     3     4     2  \n",
      "9996     3      4      2      5     3     4     4  \n",
      "9997     3      3      4      4     2     3     2  \n",
      "9998     5      3      4      4     3     4     3  \n",
      "9999     3      3      2      3     6     4     3  \n",
      "\n",
      "[10000 rows x 50 columns]\n"
     ]
    }
   ],
   "source": [
    "#Load csv to a data frame.\n",
    "medical_df = pd.read_csv('medical_clean.csv')\n",
    "#Review data frame to ensure all is loaded as expected.\n",
    "medical_df.info()\n",
    "#Print data frame.\n",
    "print(medical_df)"
   ]
  },
  {
   "cell_type": "markdown",
   "id": "619d592f",
   "metadata": {},
   "source": [
    "# Clean and Prepare Data Set"
   ]
  },
  {
   "cell_type": "markdown",
   "id": "07645838",
   "metadata": {},
   "source": [
    "Check for duplicated values based on the Customer_id variable as the disctionary for the data set stated that this is a unique ID. Remove any duplicated values and review the dataframe."
   ]
  },
  {
   "cell_type": "code",
   "execution_count": 4,
   "id": "1dd3044d",
   "metadata": {},
   "outputs": [
    {
     "name": "stdout",
     "output_type": "stream",
     "text": [
      "<class 'pandas.core.frame.DataFrame'>\n",
      "Int64Index: 10000 entries, 0 to 9999\n",
      "Data columns (total 50 columns):\n",
      " #   Column              Non-Null Count  Dtype  \n",
      "---  ------              --------------  -----  \n",
      " 0   CaseOrder           10000 non-null  int64  \n",
      " 1   Customer_id         10000 non-null  object \n",
      " 2   Interaction         10000 non-null  object \n",
      " 3   UID                 10000 non-null  object \n",
      " 4   City                10000 non-null  object \n",
      " 5   State               10000 non-null  object \n",
      " 6   County              10000 non-null  object \n",
      " 7   Zip                 10000 non-null  int64  \n",
      " 8   Lat                 10000 non-null  float64\n",
      " 9   Lng                 10000 non-null  float64\n",
      " 10  Population          10000 non-null  int64  \n",
      " 11  Area                10000 non-null  object \n",
      " 12  TimeZone            10000 non-null  object \n",
      " 13  Job                 10000 non-null  object \n",
      " 14  Children            10000 non-null  int64  \n",
      " 15  Age                 10000 non-null  int64  \n",
      " 16  Income              10000 non-null  float64\n",
      " 17  Marital             10000 non-null  object \n",
      " 18  Gender              10000 non-null  object \n",
      " 19  ReAdmis             10000 non-null  object \n",
      " 20  VitD_levels         10000 non-null  float64\n",
      " 21  Doc_visits          10000 non-null  int64  \n",
      " 22  Full_meals_eaten    10000 non-null  int64  \n",
      " 23  vitD_supp           10000 non-null  int64  \n",
      " 24  Soft_drink          10000 non-null  object \n",
      " 25  Initial_admin       10000 non-null  object \n",
      " 26  HighBlood           10000 non-null  object \n",
      " 27  Stroke              10000 non-null  object \n",
      " 28  Complication_risk   10000 non-null  object \n",
      " 29  Overweight          10000 non-null  object \n",
      " 30  Arthritis           10000 non-null  object \n",
      " 31  Diabetes            10000 non-null  object \n",
      " 32  Hyperlipidemia      10000 non-null  object \n",
      " 33  BackPain            10000 non-null  object \n",
      " 34  Anxiety             10000 non-null  object \n",
      " 35  Allergic_rhinitis   10000 non-null  object \n",
      " 36  Reflux_esophagitis  10000 non-null  object \n",
      " 37  Asthma              10000 non-null  object \n",
      " 38  Services            10000 non-null  object \n",
      " 39  Initial_days        10000 non-null  float64\n",
      " 40  TotalCharge         10000 non-null  float64\n",
      " 41  Additional_charges  10000 non-null  float64\n",
      " 42  Item1               10000 non-null  int64  \n",
      " 43  Item2               10000 non-null  int64  \n",
      " 44  Item3               10000 non-null  int64  \n",
      " 45  Item4               10000 non-null  int64  \n",
      " 46  Item5               10000 non-null  int64  \n",
      " 47  Item6               10000 non-null  int64  \n",
      " 48  Item7               10000 non-null  int64  \n",
      " 49  Item8               10000 non-null  int64  \n",
      "dtypes: float64(7), int64(16), object(27)\n",
      "memory usage: 3.9+ MB\n"
     ]
    }
   ],
   "source": [
    "#Identify and drop duplicated values.\n",
    "medical_df = medical_df.drop_duplicates(subset='Customer_id', keep='first')\n",
    "#Review data frame information to see if any drops were made.\n",
    "medical_df.info()"
   ]
  },
  {
   "cell_type": "markdown",
   "id": "67723862",
   "metadata": {},
   "source": [
    "No duplicate values were found in the data set as none were removed."
   ]
  },
  {
   "cell_type": "markdown",
   "id": "1f067385",
   "metadata": {},
   "source": [
    "Check for null values in the data set."
   ]
  },
  {
   "cell_type": "code",
   "execution_count": 5,
   "id": "4d53f242",
   "metadata": {},
   "outputs": [
    {
     "data": {
      "text/plain": [
       "CaseOrder             0\n",
       "Customer_id           0\n",
       "Interaction           0\n",
       "UID                   0\n",
       "City                  0\n",
       "State                 0\n",
       "County                0\n",
       "Zip                   0\n",
       "Lat                   0\n",
       "Lng                   0\n",
       "Population            0\n",
       "Area                  0\n",
       "TimeZone              0\n",
       "Job                   0\n",
       "Children              0\n",
       "Age                   0\n",
       "Income                0\n",
       "Marital               0\n",
       "Gender                0\n",
       "ReAdmis               0\n",
       "VitD_levels           0\n",
       "Doc_visits            0\n",
       "Full_meals_eaten      0\n",
       "vitD_supp             0\n",
       "Soft_drink            0\n",
       "Initial_admin         0\n",
       "HighBlood             0\n",
       "Stroke                0\n",
       "Complication_risk     0\n",
       "Overweight            0\n",
       "Arthritis             0\n",
       "Diabetes              0\n",
       "Hyperlipidemia        0\n",
       "BackPain              0\n",
       "Anxiety               0\n",
       "Allergic_rhinitis     0\n",
       "Reflux_esophagitis    0\n",
       "Asthma                0\n",
       "Services              0\n",
       "Initial_days          0\n",
       "TotalCharge           0\n",
       "Additional_charges    0\n",
       "Item1                 0\n",
       "Item2                 0\n",
       "Item3                 0\n",
       "Item4                 0\n",
       "Item5                 0\n",
       "Item6                 0\n",
       "Item7                 0\n",
       "Item8                 0\n",
       "dtype: int64"
      ]
     },
     "execution_count": 5,
     "metadata": {},
     "output_type": "execute_result"
    }
   ],
   "source": [
    "#Sum all null values based on each variable.\n",
    "medical_df.isnull().sum()"
   ]
  },
  {
   "cell_type": "markdown",
   "id": "f699e3a4",
   "metadata": {},
   "source": [
    "The list shows that there are no null values in the data set."
   ]
  },
  {
   "cell_type": "markdown",
   "id": "1681de66",
   "metadata": {},
   "source": [
    "There are columns with non-descript titles so those will be updated to reflect a description based on the corresponding response noted by the dictionary for the data set. "
   ]
  },
  {
   "cell_type": "code",
   "execution_count": 6,
   "id": "049248d4",
   "metadata": {},
   "outputs": [
    {
     "name": "stdout",
     "output_type": "stream",
     "text": [
      "<class 'pandas.core.frame.DataFrame'>\n",
      "Int64Index: 10000 entries, 0 to 9999\n",
      "Data columns (total 50 columns):\n",
      " #   Column                                        Non-Null Count  Dtype  \n",
      "---  ------                                        --------------  -----  \n",
      " 0   CaseOrder                                     10000 non-null  int64  \n",
      " 1   Customer_id                                   10000 non-null  object \n",
      " 2   Interaction                                   10000 non-null  object \n",
      " 3   UID                                           10000 non-null  object \n",
      " 4   City                                          10000 non-null  object \n",
      " 5   State                                         10000 non-null  object \n",
      " 6   County                                        10000 non-null  object \n",
      " 7   Zip                                           10000 non-null  int64  \n",
      " 8   Lat                                           10000 non-null  float64\n",
      " 9   Lng                                           10000 non-null  float64\n",
      " 10  Population                                    10000 non-null  int64  \n",
      " 11  Area                                          10000 non-null  object \n",
      " 12  TimeZone                                      10000 non-null  object \n",
      " 13  Job                                           10000 non-null  object \n",
      " 14  Children                                      10000 non-null  int64  \n",
      " 15  Age                                           10000 non-null  int64  \n",
      " 16  Income                                        10000 non-null  float64\n",
      " 17  Marital                                       10000 non-null  object \n",
      " 18  Gender                                        10000 non-null  object \n",
      " 19  ReAdmis                                       10000 non-null  object \n",
      " 20  VitD_levels                                   10000 non-null  float64\n",
      " 21  Doc_visits                                    10000 non-null  int64  \n",
      " 22  Full_meals_eaten                              10000 non-null  int64  \n",
      " 23  vitD_supp                                     10000 non-null  int64  \n",
      " 24  Soft_drink                                    10000 non-null  object \n",
      " 25  Initial_admin                                 10000 non-null  object \n",
      " 26  HighBlood                                     10000 non-null  object \n",
      " 27  Stroke                                        10000 non-null  object \n",
      " 28  Complication_risk                             10000 non-null  object \n",
      " 29  Overweight                                    10000 non-null  object \n",
      " 30  Arthritis                                     10000 non-null  object \n",
      " 31  Diabetes                                      10000 non-null  object \n",
      " 32  Hyperlipidemia                                10000 non-null  object \n",
      " 33  BackPain                                      10000 non-null  object \n",
      " 34  Anxiety                                       10000 non-null  object \n",
      " 35  Allergic_rhinitis                             10000 non-null  object \n",
      " 36  Reflux_esophagitis                            10000 non-null  object \n",
      " 37  Asthma                                        10000 non-null  object \n",
      " 38  Services                                      10000 non-null  object \n",
      " 39  Initial_days                                  10000 non-null  float64\n",
      " 40  TotalCharge                                   10000 non-null  float64\n",
      " 41  Additional_charges                            10000 non-null  float64\n",
      " 42  Item1: Timely Admission                       10000 non-null  int64  \n",
      " 43  Item2: Timely Treatment                       10000 non-null  int64  \n",
      " 44  Item3: Timely Visits                          10000 non-null  int64  \n",
      " 45  Item4: Reliability                            10000 non-null  int64  \n",
      " 46  Item5: Options                                10000 non-null  int64  \n",
      " 47  Item6: Hours of Treatment                     10000 non-null  int64  \n",
      " 48  Item7: Courteous Staff                        10000 non-null  int64  \n",
      " 49  Item8: Evidence of Active Listening from Doc  10000 non-null  int64  \n",
      "dtypes: float64(7), int64(16), object(27)\n",
      "memory usage: 3.9+ MB\n"
     ]
    }
   ],
   "source": [
    "#Rename survey response variables.\n",
    "medical_df.rename(columns = {'Item1': 'Item1: Timely Admission',\n",
    "\t\t\t\t\t\t'Item2': 'Item2: Timely Treatment',\n",
    "\t\t\t\t\t\t'Item3': 'Item3: Timely Visits',\n",
    "\t\t\t\t\t\t'Item4': 'Item4: Reliability',\n",
    "\t\t\t\t\t\t'Item5': 'Item5: Options',\n",
    "\t\t\t\t\t\t'Item6': 'Item6: Hours of Treatment',\n",
    "\t\t\t\t\t\t'Item7': 'Item7: Courteous Staff',\n",
    "\t\t\t\t\t\t'Item8': 'Item8: Evidence of Active Listening from Doc'},\n",
    "\t\t\t\t\tinplace=True)\n",
    "#Review data frame to ensure all changes have been made.\n",
    "medical_df.info()"
   ]
  },
  {
   "cell_type": "markdown",
   "id": "b7edeeed",
   "metadata": {},
   "source": [
    "PCA can only work with continuous variables so any non-numeric variables can be removed."
   ]
  },
  {
   "cell_type": "code",
   "execution_count": 7,
   "id": "e766613f",
   "metadata": {},
   "outputs": [
    {
     "name": "stdout",
     "output_type": "stream",
     "text": [
      "<class 'pandas.core.frame.DataFrame'>\n",
      "Int64Index: 10000 entries, 0 to 9999\n",
      "Data columns (total 23 columns):\n",
      " #   Column                                        Non-Null Count  Dtype  \n",
      "---  ------                                        --------------  -----  \n",
      " 0   CaseOrder                                     10000 non-null  int64  \n",
      " 1   Zip                                           10000 non-null  int64  \n",
      " 2   Lat                                           10000 non-null  float64\n",
      " 3   Lng                                           10000 non-null  float64\n",
      " 4   Population                                    10000 non-null  int64  \n",
      " 5   Children                                      10000 non-null  int64  \n",
      " 6   Age                                           10000 non-null  int64  \n",
      " 7   Income                                        10000 non-null  float64\n",
      " 8   VitD_levels                                   10000 non-null  float64\n",
      " 9   Doc_visits                                    10000 non-null  int64  \n",
      " 10  Full_meals_eaten                              10000 non-null  int64  \n",
      " 11  vitD_supp                                     10000 non-null  int64  \n",
      " 12  Initial_days                                  10000 non-null  float64\n",
      " 13  TotalCharge                                   10000 non-null  float64\n",
      " 14  Additional_charges                            10000 non-null  float64\n",
      " 15  Item1: Timely Admission                       10000 non-null  int64  \n",
      " 16  Item2: Timely Treatment                       10000 non-null  int64  \n",
      " 17  Item3: Timely Visits                          10000 non-null  int64  \n",
      " 18  Item4: Reliability                            10000 non-null  int64  \n",
      " 19  Item5: Options                                10000 non-null  int64  \n",
      " 20  Item6: Hours of Treatment                     10000 non-null  int64  \n",
      " 21  Item7: Courteous Staff                        10000 non-null  int64  \n",
      " 22  Item8: Evidence of Active Listening from Doc  10000 non-null  int64  \n",
      "dtypes: float64(7), int64(16)\n",
      "memory usage: 1.8 MB\n"
     ]
    }
   ],
   "source": [
    "#Select only the variables that have data type \"number\".\n",
    "medical_df = medical_df.select_dtypes('number')\n",
    "#View the info to see what is remaining.\n",
    "medical_df.info()"
   ]
  },
  {
   "cell_type": "markdown",
   "id": "e9f1e10c",
   "metadata": {},
   "source": [
    "PCA can only work with continuous variables so any discrete variables can be removed."
   ]
  },
  {
   "cell_type": "code",
   "execution_count": 8,
   "id": "2b86b5f4",
   "metadata": {},
   "outputs": [
    {
     "name": "stdout",
     "output_type": "stream",
     "text": [
      "<class 'pandas.core.frame.DataFrame'>\n",
      "Int64Index: 10000 entries, 0 to 9999\n",
      "Data columns (total 20 columns):\n",
      " #   Column                                        Non-Null Count  Dtype  \n",
      "---  ------                                        --------------  -----  \n",
      " 0   Lat                                           10000 non-null  float64\n",
      " 1   Lng                                           10000 non-null  float64\n",
      " 2   Population                                    10000 non-null  int64  \n",
      " 3   Age                                           10000 non-null  int64  \n",
      " 4   Income                                        10000 non-null  float64\n",
      " 5   VitD_levels                                   10000 non-null  float64\n",
      " 6   Doc_visits                                    10000 non-null  int64  \n",
      " 7   Full_meals_eaten                              10000 non-null  int64  \n",
      " 8   vitD_supp                                     10000 non-null  int64  \n",
      " 9   Initial_days                                  10000 non-null  float64\n",
      " 10  TotalCharge                                   10000 non-null  float64\n",
      " 11  Additional_charges                            10000 non-null  float64\n",
      " 12  Item1: Timely Admission                       10000 non-null  int64  \n",
      " 13  Item2: Timely Treatment                       10000 non-null  int64  \n",
      " 14  Item3: Timely Visits                          10000 non-null  int64  \n",
      " 15  Item4: Reliability                            10000 non-null  int64  \n",
      " 16  Item5: Options                                10000 non-null  int64  \n",
      " 17  Item6: Hours of Treatment                     10000 non-null  int64  \n",
      " 18  Item7: Courteous Staff                        10000 non-null  int64  \n",
      " 19  Item8: Evidence of Active Listening from Doc  10000 non-null  int64  \n",
      "dtypes: float64(7), int64(13)\n",
      "memory usage: 1.6 MB\n"
     ]
    }
   ],
   "source": [
    "#Drop discrete variables \"Zip\" and \"Children\" with \"CaseOrder\".\n",
    "medical_df = medical_df.drop(['Zip', 'Children', 'CaseOrder'], axis=1)\n",
    "#View the info to see if all is as expected.\n",
    "medical_df.info()"
   ]
  },
  {
   "cell_type": "markdown",
   "id": "09687e9d",
   "metadata": {},
   "source": [
    "# Standardize Data"
   ]
  },
  {
   "cell_type": "code",
   "execution_count": 9,
   "id": "90be33f2",
   "metadata": {},
   "outputs": [
    {
     "name": "stdout",
     "output_type": "stream",
     "text": [
      "[[-0.81466764  0.29713444 -0.47316821 ... -0.50613933 -0.48367167\n",
      "   0.47042005]\n",
      " [-1.46330542  0.39552225  0.09024181 ...  0.46254838 -0.48367167\n",
      "  -0.48903345]\n",
      " [ 0.88696563 -0.35478829  0.48298285 ...  0.46254838 -0.48367167\n",
      "  -0.48903345]\n",
      " ...\n",
      " [-0.441353    0.25933168 -0.63634935 ... -1.47482704 -0.48367167\n",
      "  -1.44848694]\n",
      " [ 0.99067638 -0.70849405 -0.65395591 ... -0.50613933  0.49542078\n",
      "  -0.48903345]\n",
      " [ 0.32369816  0.72629512  2.12889296 ...  2.39992381  0.49542078\n",
      "  -0.48903345]]\n"
     ]
    }
   ],
   "source": [
    "#Set scaler.\n",
    "scaler = StandardScaler()\n",
    "#Fit scaler and transform the data frame.\n",
    "medical_std = scaler.fit_transform(medical_df)\n",
    "#View standardized data.\n",
    "print(medical_std)"
   ]
  },
  {
   "cell_type": "markdown",
   "id": "0a3a32cc",
   "metadata": {},
   "source": [
    "# Export Data"
   ]
  },
  {
   "cell_type": "code",
   "execution_count": 10,
   "id": "0d639061",
   "metadata": {},
   "outputs": [],
   "source": [
    "#Convert standardized array to a data frame.\n",
    "medical_std_df = pd.DataFrame(medical_std)\n",
    "#Export the data set as a .csv file.\n",
    "medical_std_df.to_csv(\"medical_std_df.csv\")"
   ]
  },
  {
   "cell_type": "markdown",
   "id": "55e3ddbe",
   "metadata": {},
   "source": [
    "# PCA Model"
   ]
  },
  {
   "cell_type": "code",
   "execution_count": 11,
   "id": "4c3d29a2",
   "metadata": {},
   "outputs": [
    {
     "data": {
      "text/plain": [
       "array([[-1.51927931, -1.16545781,  0.5840764 , ..., -0.11878564,\n",
       "        -0.55385848,  0.10408392],\n",
       "       [-0.3669284 , -0.81133282,  0.55568937, ...,  0.64889973,\n",
       "        -0.60205481,  0.12391224],\n",
       "       [-0.1768332 , -1.65050912,  0.72580565, ...,  1.50611108,\n",
       "        -0.4987769 , -0.15857565],\n",
       "       ...,\n",
       "       [-1.96683389,  1.76833273, -0.24481807, ..., -0.18070781,\n",
       "        -0.56047167, -0.02184169],\n",
       "       [ 0.79918214,  1.41089356, -1.11519731, ..., -0.50172446,\n",
       "         0.21793316, -0.01041605],\n",
       "       [ 0.64089916,  1.95869318,  0.11226324, ..., -0.46551235,\n",
       "         0.76565393, -0.11261487]])"
      ]
     },
     "execution_count": 11,
     "metadata": {},
     "output_type": "execute_result"
    }
   ],
   "source": [
    "# Set PCA model.\n",
    "pca = PCA(n_components=20)\n",
    "#Fit and transform PCA model to standardized data.\n",
    "pca_model = pca.fit_transform(medical_std_df)\n",
    "#View PCA model.\n",
    "pca_model"
   ]
  },
  {
   "cell_type": "code",
   "execution_count": 12,
   "id": "824ce868",
   "metadata": {
    "scrolled": false
   },
   "outputs": [
    {
     "name": "stdout",
     "output_type": "stream",
     "text": [
      "           Lat       Lng  Population       Age    Income  VitD_levels  \\\n",
      "PC1   0.008964  0.000729    0.009048  0.006664  0.001123    -0.003326   \n",
      "PC2  -0.018479 -0.010546    0.029361  0.085471 -0.019874    -0.002735   \n",
      "PC3  -0.001575  0.011236   -0.031260  0.693786 -0.016889     0.017117   \n",
      "PC4  -0.016982  0.008909   -0.013232 -0.098148  0.022639    -0.027497   \n",
      "PC5  -0.715350  0.272658    0.627549  0.010775  0.076125    -0.017846   \n",
      "PC6  -0.108961  0.019969    0.050666 -0.022538 -0.372067     0.544875   \n",
      "PC7   0.081546 -0.767536    0.401984 -0.003649  0.198204     0.244225   \n",
      "PC8  -0.005286  0.369451   -0.210111 -0.006353  0.455009     0.210902   \n",
      "PC9   0.031917  0.202410   -0.045156 -0.019084 -0.523500     0.376891   \n",
      "PC10 -0.066441  0.095028   -0.105870 -0.013638  0.493306     0.157951   \n",
      "PC11 -0.043207 -0.023595    0.054997 -0.017500 -0.283065    -0.652159   \n",
      "PC12  0.085424  0.029438    0.097334 -0.005064 -0.077394     0.050408   \n",
      "PC13 -0.659295 -0.380145   -0.593603  0.004115 -0.066011     0.011787   \n",
      "PC14  0.137383  0.055536    0.127093  0.015725  0.000290     0.002867   \n",
      "PC15 -0.022570  0.011899   -0.016380 -0.001241 -0.006717    -0.040734   \n",
      "PC16  0.016120  0.006496   -0.015506  0.008291  0.017745    -0.014759   \n",
      "PC17 -0.004123 -0.005812   -0.026803 -0.019302  0.001229    -0.021294   \n",
      "PC18 -0.002693  0.008716   -0.004870  0.000438  0.003807     0.016278   \n",
      "PC19  0.008663 -0.004990    0.016334  0.706200  0.002168    -0.002585   \n",
      "PC20  0.001371 -0.000410   -0.000628  0.026317  0.001269    -0.001504   \n",
      "\n",
      "      Doc_visits  Full_meals_eaten  vitD_supp  Initial_days  TotalCharge  \\\n",
      "PC1     0.007237         -0.000445  -0.004983     -0.026359    -0.024766   \n",
      "PC2    -0.006277         -0.020911   0.025133      0.699727     0.700950   \n",
      "PC3     0.015897          0.028769   0.014015     -0.089468    -0.079014   \n",
      "PC4     0.003542         -0.028684  -0.006175      0.010254     0.008759   \n",
      "PC5     0.016329         -0.103207   0.029229     -0.023838    -0.021789   \n",
      "PC6    -0.095667          0.596242  -0.417751      0.010095     0.013175   \n",
      "PC7     0.347137          0.048820   0.132099     -0.011412    -0.009877   \n",
      "PC8     0.719183          0.078602  -0.196382      0.022615     0.022958   \n",
      "PC9     0.304106         -0.183196   0.638107     -0.014473    -0.012667   \n",
      "PC10   -0.334494          0.507546   0.579800      0.006144     0.006870   \n",
      "PC11    0.377870          0.567729   0.147593      0.000711     0.002385   \n",
      "PC12   -0.026542          0.060375   0.034318     -0.003515    -0.004577   \n",
      "PC13    0.060301         -0.059434   0.015021      0.002049     0.001058   \n",
      "PC14    0.017318          0.045221  -0.029838      0.011071     0.009115   \n",
      "PC15   -0.023515         -0.011061   0.012995      0.001611    -0.000080   \n",
      "PC16    0.007367          0.001091  -0.003623      0.002777     0.003582   \n",
      "PC17   -0.009520          0.015606   0.010645     -0.000555    -0.000392   \n",
      "PC18   -0.001964          0.001181   0.000072     -0.005311    -0.006814   \n",
      "PC19    0.000377          0.010994   0.000815      0.031452    -0.031619   \n",
      "PC20   -0.001119         -0.001604  -0.000594     -0.706294     0.706460   \n",
      "\n",
      "      Additional_charges  Item1: Timely Admission  Item2: Timely Treatment  \\\n",
      "PC1             0.006184                 0.454577                 0.428160   \n",
      "PC2             0.085845                 0.006674                 0.017249   \n",
      "PC3             0.694332                -0.043366                -0.044699   \n",
      "PC4            -0.093751                -0.293643                -0.289666   \n",
      "PC5             0.013358                 0.008218                 0.014722   \n",
      "PC6            -0.017208                 0.005306                -0.001710   \n",
      "PC7             0.013838                -0.009111                 0.000667   \n",
      "PC8            -0.010435                 0.002323                -0.009784   \n",
      "PC9            -0.026959                 0.010957                 0.011136   \n",
      "PC10           -0.009298                 0.006548                -0.008883   \n",
      "PC11           -0.006393                -0.015918                -0.007929   \n",
      "PC12            0.011314                -0.097865                -0.149272   \n",
      "PC13           -0.018771                 0.010490                 0.005771   \n",
      "PC14            0.003772                 0.071614                 0.130466   \n",
      "PC15            0.008660                -0.012344                -0.063825   \n",
      "PC16            0.002611                 0.084337                 0.097881   \n",
      "PC17            0.009449                 0.183281                 0.626198   \n",
      "PC18            0.002524                -0.805563                 0.533580   \n",
      "PC19           -0.705729                -0.001065                 0.008599   \n",
      "PC20           -0.036762                -0.001476                 0.000330   \n",
      "\n",
      "      Item3: Timely Visits  Item4: Reliability  Item5: Options  \\\n",
      "PC1               0.395023            0.152292       -0.190140   \n",
      "PC2               0.011804           -0.000557       -0.009686   \n",
      "PC3              -0.046813            0.071517       -0.084670   \n",
      "PC4              -0.291901            0.552995       -0.577254   \n",
      "PC5              -0.012651            0.007619        0.014108   \n",
      "PC6              -0.018678            0.032565       -0.023798   \n",
      "PC7              -0.027553           -0.003925       -0.013354   \n",
      "PC8              -0.017295           -0.053598       -0.001028   \n",
      "PC9               0.000482            0.040362       -0.012547   \n",
      "PC10              0.019819            0.019042       -0.005661   \n",
      "PC11              0.017264            0.004152        0.003406   \n",
      "PC12             -0.217335           -0.370355        0.122270   \n",
      "PC13              0.037138            0.024729        0.025606   \n",
      "PC14              0.200596            0.351476       -0.060839   \n",
      "PC15             -0.234036           -0.390109       -0.133386   \n",
      "PC16             -0.429027            0.483268        0.695921   \n",
      "PC17             -0.623507           -0.112001       -0.303276   \n",
      "PC18              0.193324           -0.011018        0.093439   \n",
      "PC19             -0.018361           -0.012782       -0.010145   \n",
      "PC20             -0.000793           -0.001332       -0.000549   \n",
      "\n",
      "      Item6: Hours of Treatment  Item7: Courteous Staff  \\\n",
      "PC1                    0.410212                0.356415   \n",
      "PC2                    0.012976                0.026538   \n",
      "PC3                    0.010672                0.028157   \n",
      "PC4                    0.163297                0.170836   \n",
      "PC5                   -0.010708               -0.005799   \n",
      "PC6                    0.035566                0.022246   \n",
      "PC7                    0.030966                0.009989   \n",
      "PC8                    0.006211                0.002593   \n",
      "PC9                    0.011664               -0.011634   \n",
      "PC10                   0.003249               -0.009638   \n",
      "PC11                  -0.005292                0.026642   \n",
      "PC12                  -0.040346                0.061297   \n",
      "PC13                  -0.024775               -0.150203   \n",
      "PC14                  -0.053857               -0.832830   \n",
      "PC15                   0.796013               -0.331065   \n",
      "PC16                   0.272067                0.068341   \n",
      "PC17                  -0.271231               -0.061673   \n",
      "PC18                   0.125938                0.051523   \n",
      "PC19                   0.000284                0.007363   \n",
      "PC20                   0.000366               -0.001772   \n",
      "\n",
      "      Item8: Evidence of Active Listening from Doc  \n",
      "PC1                                       0.312572  \n",
      "PC2                                       0.010127  \n",
      "PC3                                       0.009723  \n",
      "PC4                                       0.168805  \n",
      "PC5                                       0.006366  \n",
      "PC6                                      -0.076291  \n",
      "PC7                                      -0.029184  \n",
      "PC8                                       0.036641  \n",
      "PC9                                      -0.053742  \n",
      "PC10                                     -0.004491  \n",
      "PC11                                     -0.022251  \n",
      "PC12                                      0.855293  \n",
      "PC13                                      0.173856  \n",
      "PC14                                      0.268416  \n",
      "PC15                                     -0.155684  \n",
      "PC16                                      0.038175  \n",
      "PC17                                     -0.038733  \n",
      "PC18                                      0.033865  \n",
      "PC19                                      0.002590  \n",
      "PC20                                      0.001108  \n"
     ]
    }
   ],
   "source": [
    "#Create matrix for all components.\n",
    "pca_df = pd.DataFrame(pca.components_.T, columns=['PC1', 'PC2', 'PC3', 'PC4', 'PC5', 'PC6', 'PC7', 'PC8', 'PC9', 'PC10', 'PC11', 'PC12', 'PC13', 'PC14', 'PC15', 'PC16', 'PC17', 'PC18', 'PC19', 'PC20'], index=medical_df.columns).T\n",
    "#Print matrix for all PCA components.\n",
    "print(pca_df)"
   ]
  },
  {
   "cell_type": "markdown",
   "id": "5379c74b",
   "metadata": {},
   "source": [
    "# Scree Plot"
   ]
  },
  {
   "cell_type": "markdown",
   "id": "2462f7e1",
   "metadata": {},
   "source": [
    "The scree plot needs to have the explained variance of each principal component calculated."
   ]
  },
  {
   "cell_type": "code",
   "execution_count": 13,
   "id": "13089293",
   "metadata": {
    "scrolled": true
   },
   "outputs": [
    {
     "data": {
      "text/plain": [
       "array([0.14774811, 0.09967996, 0.08582334, 0.08249313, 0.06136057,\n",
       "       0.05198391, 0.0516876 , 0.05033033, 0.05005829, 0.04882545,\n",
       "       0.04851433, 0.0385043 , 0.03738376, 0.03480234, 0.02938435,\n",
       "       0.02666296, 0.02364928, 0.01636515, 0.01415764, 0.00058521])"
      ]
     },
     "execution_count": 13,
     "metadata": {},
     "output_type": "execute_result"
    }
   ],
   "source": [
    "#Calculate explained variance ratio for each component.\n",
    "exp_var_ratio = pca.explained_variance_ratio_\n",
    "#View the list of explained variance ratios by component.\n",
    "exp_var_ratio"
   ]
  },
  {
   "cell_type": "markdown",
   "id": "973dca09",
   "metadata": {},
   "source": [
    "The scree plot needs to list all principal components."
   ]
  },
  {
   "cell_type": "code",
   "execution_count": 14,
   "id": "6b28d621",
   "metadata": {},
   "outputs": [
    {
     "data": {
      "text/plain": [
       "array([ 1,  2,  3,  4,  5,  6,  7,  8,  9, 10, 11, 12, 13, 14, 15, 16, 17,\n",
       "       18, 19, 20])"
      ]
     },
     "execution_count": 14,
     "metadata": {},
     "output_type": "execute_result"
    }
   ],
   "source": [
    "#Set up list of components.\n",
    "pc = np.arange(pca.n_components_)+1\n",
    "#View list of components.\n",
    "pc"
   ]
  },
  {
   "cell_type": "markdown",
   "id": "03a3e7f9",
   "metadata": {},
   "source": [
    "Create the scree plot."
   ]
  },
  {
   "cell_type": "code",
   "execution_count": 15,
   "id": "a1511763",
   "metadata": {},
   "outputs": [
    {
     "data": {
      "image/png": "[encoded data removed]",
      "text/plain": [
       "<Figure size 1000x500 with 1 Axes>"
      ]
     },
     "metadata": {},
     "output_type": "display_data"
    }
   ],
   "source": [
    "#Set figure size.\n",
    "plt.figure(figsize=(10,5))\n",
    "#Set plot.\n",
    "plt.plot(pc, exp_var_ratio, 'o-', linewidth=1, color='blue')\n",
    "#Set plot title.\n",
    "plt.title('Medical Scree Plot')\n",
    "#Set plot x-axis label.\n",
    "plt.xlabel('Principal Component')\n",
    "#Set plot y-axis label.\n",
    "plt.ylabel('Variance Explained')\n",
    "#Set plot grid lines.\n",
    "plt.grid()\n",
    "#View plot.\n",
    "plt.show()"
   ]
  },
  {
   "cell_type": "markdown",
   "id": "362d67d2",
   "metadata": {},
   "source": [
    "Elbow method from the scree plot is showing there is the largest drop in variance explained after the first 6 components."
   ]
  },
  {
   "cell_type": "markdown",
   "id": "03a8ae5b",
   "metadata": {},
   "source": [
    "# Explained Variance Ratio of Principal Components"
   ]
  },
  {
   "cell_type": "markdown",
   "id": "74ccbc61",
   "metadata": {},
   "source": [
    "Show the explained variance for the 6 principal components identified."
   ]
  },
  {
   "cell_type": "code",
   "execution_count": 16,
   "id": "25a03583",
   "metadata": {},
   "outputs": [
    {
     "name": "stdout",
     "output_type": "stream",
     "text": [
      "Variance described by PC1 = 14.77 %\n",
      "Variance described by PC2 = 9.97 %\n",
      "Variance described by PC3 = 8.58 %\n",
      "Variance described by PC4 = 8.25 %\n",
      "Variance described by PC5 = 6.14 %\n",
      "Variance described by PC5 = 5.2 %\n"
     ]
    }
   ],
   "source": [
    "#Calculate the explained variance ratios for the components of the PCA.\n",
    "print(\"Variance described by PC1 =\", round((exp_var_ratio[0]*100), 2), \"%\")\n",
    "print(\"Variance described by PC2 =\", round((exp_var_ratio[1]*100), 2), \"%\")\n",
    "print(\"Variance described by PC3 =\", round((exp_var_ratio[2]*100), 2), \"%\")\n",
    "print(\"Variance described by PC4 =\", round((exp_var_ratio[3]*100), 2), \"%\")\n",
    "print(\"Variance described by PC5 =\", round((exp_var_ratio[4]*100), 2), \"%\")\n",
    "print(\"Variance described by PC5 =\", round((exp_var_ratio[5]*100), 2), \"%\")"
   ]
  },
  {
   "cell_type": "markdown",
   "id": "930b3b3e",
   "metadata": {},
   "source": [
    "# Total Variance Explained by Principal Components"
   ]
  },
  {
   "cell_type": "markdown",
   "id": "9137af18",
   "metadata": {},
   "source": [
    "Show the total variance explained by the 6 principcal components identified."
   ]
  },
  {
   "cell_type": "code",
   "execution_count": 17,
   "id": "484b0f20",
   "metadata": {},
   "outputs": [
    {
     "name": "stdout",
     "output_type": "stream",
     "text": [
      "The total variance described is 52.91 %.\n"
     ]
    }
   ],
   "source": [
    "#Calculate the total variance.\n",
    "print(\"The total variance described is\", round((exp_var_ratio.cumsum()[5]*100), 2), \"%.\")"
   ]
  }
 ],
 "metadata": {
  "kernelspec": {
   "display_name": "Python 3 (ipykernel)",
   "language": "python",
   "name": "python3"
  },
  "language_info": {
   "codemirror_mode": {
    "name": "ipython",
    "version": 3
   },
   "file_extension": ".py",
   "mimetype": "text/x-python",
   "name": "python",
   "nbconvert_exporter": "python",
   "pygments_lexer": "ipython3",
   "version": "3.9.13"
  }
 },
 "nbformat": 4,
 "nbformat_minor": 5
}
